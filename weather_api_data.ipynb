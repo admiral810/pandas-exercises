{
 "cells": [
  {
   "cell_type": "code",
   "execution_count": 1,
   "metadata": {
    "ExecuteTime": {
     "end_time": "2020-09-17T16:03:26.181293Z",
     "start_time": "2020-09-17T16:03:25.521051Z"
    }
   },
   "outputs": [],
   "source": [
    "import pandas as pd\n",
    "import numpy as np"
   ]
  },
  {
   "cell_type": "code",
   "execution_count": 2,
   "metadata": {
    "ExecuteTime": {
     "end_time": "2020-09-17T16:03:26.189276Z",
     "start_time": "2020-09-17T16:03:26.183290Z"
    }
   },
   "outputs": [],
   "source": [
    "import sys \n",
    "sys.path.insert(0, '../Key')\n",
    "from NOAA_key import key"
   ]
  },
  {
   "cell_type": "code",
   "execution_count": 3,
   "metadata": {
    "ExecuteTime": {
     "end_time": "2020-09-17T16:03:26.363805Z",
     "start_time": "2020-09-17T16:03:26.192274Z"
    }
   },
   "outputs": [],
   "source": [
    "import requests\n",
    "\n",
    "def make_request(endpoint, payload=None): \n",
    "    \"\"\"\n",
    "    Make a request to weather api, passing headers and optional payload.abs\n",
    "    \n",
    "    Params:\n",
    "        - endpoint: endpoint of API to make a GET request to\n",
    "        - payloads: a dict of data to pass along with the request\n",
    "    \"\"\"\n",
    "    \n",
    "    url = \"https://www.ncdc.noaa.gov/cdo-web/api/v2/\"\n",
    "    \n",
    "    data = requests.get(f'{url}{endpoint}', \n",
    "                        headers={'token': key},\n",
    "                        params=payload)\n",
    "    \n",
    "    return data"
   ]
  },
  {
   "cell_type": "code",
   "execution_count": 4,
   "metadata": {
    "ExecuteTime": {
     "end_time": "2020-09-17T16:03:26.639437Z",
     "start_time": "2020-09-17T16:03:26.365801Z"
    }
   },
   "outputs": [
    {
     "data": {
      "text/plain": [
       "200"
      ]
     },
     "execution_count": 4,
     "metadata": {},
     "output_type": "execute_result"
    }
   ],
   "source": [
    "# test that response is active\n",
    "response = make_request('datasets')\n",
    "json_response = response.json()\n",
    "response.status_code"
   ]
  },
  {
   "cell_type": "code",
   "execution_count": 6,
   "metadata": {
    "ExecuteTime": {
     "end_time": "2020-09-17T16:03:26.658362Z",
     "start_time": "2020-09-17T16:03:26.649383Z"
    }
   },
   "outputs": [
    {
     "data": {
      "text/plain": [
       "dict_keys(['metadata', 'results'])"
      ]
     },
     "execution_count": 6,
     "metadata": {},
     "output_type": "execute_result"
    }
   ],
   "source": [
    "json_response.keys()"
   ]
  },
  {
   "cell_type": "code",
   "execution_count": 7,
   "metadata": {
    "ExecuteTime": {
     "end_time": "2020-09-17T16:04:36.102651Z",
     "start_time": "2020-09-17T16:04:36.097668Z"
    }
   },
   "outputs": [
    {
     "data": {
      "text/plain": [
       "{'resultset': {'offset': 1, 'count': 11, 'limit': 25}}"
      ]
     },
     "execution_count": 7,
     "metadata": {},
     "output_type": "execute_result"
    }
   ],
   "source": [
    "json_response['metadata']"
   ]
  },
  {
   "cell_type": "code",
   "execution_count": 9,
   "metadata": {
    "ExecuteTime": {
     "end_time": "2020-09-17T16:05:47.970402Z",
     "start_time": "2020-09-17T16:05:47.964417Z"
    }
   },
   "outputs": [
    {
     "data": {
      "text/plain": [
       "{'uid': 'gov.noaa.ncdc:C00861',\n",
       " 'mindate': '1763-01-01',\n",
       " 'maxdate': '2020-09-15',\n",
       " 'name': 'Daily Summaries',\n",
       " 'datacoverage': 1,\n",
       " 'id': 'GHCND'}"
      ]
     },
     "execution_count": 9,
     "metadata": {},
     "output_type": "execute_result"
    }
   ],
   "source": [
    "# look at one result\n",
    "json_response['results'][0]"
   ]
  },
  {
   "cell_type": "code",
   "execution_count": 14,
   "metadata": {
    "ExecuteTime": {
     "end_time": "2020-09-17T16:42:35.339205Z",
     "start_time": "2020-09-17T16:42:35.333213Z"
    }
   },
   "outputs": [
    {
     "data": {
      "text/plain": [
       "[('GHCND', 'Daily Summaries'),\n",
       " ('GSOM', 'Global Summary of the Month'),\n",
       " ('GSOY', 'Global Summary of the Year'),\n",
       " ('NEXRAD2', 'Weather Radar (Level II)'),\n",
       " ('NEXRAD3', 'Weather Radar (Level III)'),\n",
       " ('NORMAL_ANN', 'Normals Annual/Seasonal'),\n",
       " ('NORMAL_DLY', 'Normals Daily'),\n",
       " ('NORMAL_HLY', 'Normals Hourly'),\n",
       " ('NORMAL_MLY', 'Normals Monthly'),\n",
       " ('PRECIP_15', 'Precipitation 15 Minute'),\n",
       " ('PRECIP_HLY', 'Precipitation Hourly')]"
      ]
     },
     "execution_count": 14,
     "metadata": {},
     "output_type": "execute_result"
    }
   ],
   "source": [
    "# list comprehension to look at all ids and names \n",
    "[(data['id'], data['name']) for data in json_response['results']]"
   ]
  },
  {
   "cell_type": "code",
   "execution_count": 27,
   "metadata": {
    "ExecuteTime": {
     "end_time": "2020-09-17T16:47:34.843315Z",
     "start_time": "2020-09-17T16:47:34.600749Z"
    }
   },
   "outputs": [
    {
     "data": {
      "text/plain": [
       "{'metadata': {'resultset': {'offset': 1, 'count': 9, 'limit': 25}},\n",
       " 'results': [{'name': 'Evaporation', 'id': 'EVAP'},\n",
       "  {'name': 'Land', 'id': 'LAND'},\n",
       "  {'name': 'Precipitation', 'id': 'PRCP'},\n",
       "  {'name': 'Sky cover & clouds', 'id': 'SKY'},\n",
       "  {'name': 'Sunshine', 'id': 'SUN'},\n",
       "  {'name': 'Air Temperature', 'id': 'TEMP'},\n",
       "  {'name': 'Water', 'id': 'WATER'},\n",
       "  {'name': 'Wind', 'id': 'WIND'},\n",
       "  {'name': 'Weather Type', 'id': 'WXTYPE'}]}"
      ]
     },
     "execution_count": 27,
     "metadata": {},
     "output_type": "execute_result"
    }
   ],
   "source": [
    "response = make_request('datacategories', payload={'datasetid' : 'GHCND'})\n",
    "json_response = response.json()\n",
    "json_response"
   ]
  },
  {
   "cell_type": "code",
   "execution_count": 38,
   "metadata": {
    "ExecuteTime": {
     "end_time": "2020-09-17T17:57:38.572923Z",
     "start_time": "2020-09-17T17:57:38.327411Z"
    }
   },
   "outputs": [
    {
     "data": {
      "text/plain": [
       "[('MNTM', 'Monthly mean temperature'),\n",
       " ('TAVG', 'Average Temperature.'),\n",
       " ('TMAX', 'Maximum temperature'),\n",
       " ('TMIN', 'Minimum temperature'),\n",
       " ('TOBS', 'Temperature at the time of observation')]"
      ]
     },
     "execution_count": 38,
     "metadata": {},
     "output_type": "execute_result"
    }
   ],
   "source": [
    "response = make_request('datatypes', payload={'datacategoryid' : 'temp', 'limit' : 100})\n",
    "json_response = response.json()\n",
    "\n",
    "# get all ids and names\n",
    "[(data['id'], data['name']) for data in json_response['results']][-5:] # look at the last 5"
   ]
  },
  {
   "cell_type": "code",
   "execution_count": 40,
   "metadata": {
    "ExecuteTime": {
     "end_time": "2020-09-17T17:57:54.984573Z",
     "start_time": "2020-09-17T17:57:54.947645Z"
    }
   },
   "outputs": [
    {
     "name": "stdout",
     "output_type": "stream",
     "text": [
      "[{'datacoverage': 1,\n",
      "  'id': 'CDSD',\n",
      "  'maxdate': '2020-08-01',\n",
      "  'mindate': '1763-01-01',\n",
      "  'name': 'Cooling Degree Days Season to Date'},\n",
      " {'datacoverage': 1,\n",
      "  'id': 'DATN',\n",
      "  'maxdate': '2020-09-15',\n",
      "  'mindate': '1863-05-04',\n",
      "  'name': 'Number of days included in the multiday minimum temperature (MDTN)'},\n",
      " {'datacoverage': 1,\n",
      "  'id': 'DATX',\n",
      "  'maxdate': '2020-09-14',\n",
      "  'mindate': '1863-05-04',\n",
      "  'name': 'Number of days included in the multiday maximum temperature (MDTX)'},\n",
      " {'datacoverage': 1,\n",
      "  'id': 'DLY-DUTR-NORMAL',\n",
      "  'maxdate': '2010-12-31',\n",
      "  'mindate': '2010-01-01',\n",
      "  'name': 'Long-term averages of daily diurnal temperature range'},\n",
      " {'datacoverage': 1,\n",
      "  'id': 'DLY-DUTR-STDDEV',\n",
      "  'maxdate': '2010-12-31',\n",
      "  'mindate': '2010-01-01',\n",
      "  'name': 'Long-term standard deviations of daily diurnal temperature range'},\n",
      " {'datacoverage': 1,\n",
      "  'id': 'DLY-TAVG-NORMAL',\n",
      "  'maxdate': '2010-12-31',\n",
      "  'mindate': '2010-01-01',\n",
      "  'name': 'Long-term averages of daily average temperature'},\n",
      " {'datacoverage': 1,\n",
      "  'id': 'DLY-TAVG-STDDEV',\n",
      "  'maxdate': '2010-12-31',\n",
      "  'mindate': '2010-01-01',\n",
      "  'name': 'Long-term standard deviations of daily average temperature'},\n",
      " {'datacoverage': 1,\n",
      "  'id': 'DLY-TMAX-NORMAL',\n",
      "  'maxdate': '2010-12-31',\n",
      "  'mindate': '2010-01-01',\n",
      "  'name': 'Long-term averages of daily maximum temperature'},\n",
      " {'datacoverage': 1,\n",
      "  'id': 'DLY-TMAX-STDDEV',\n",
      "  'maxdate': '2010-12-31',\n",
      "  'mindate': '2010-01-01',\n",
      "  'name': 'Long-term standard deviations of daily maximum temperature'},\n",
      " {'datacoverage': 1,\n",
      "  'id': 'DLY-TMIN-NORMAL',\n",
      "  'maxdate': '2010-12-31',\n",
      "  'mindate': '2010-01-01',\n",
      "  'name': 'Long-term averages of daily minimum temperature'},\n",
      " {'datacoverage': 1,\n",
      "  'id': 'DLY-TMIN-STDDEV',\n",
      "  'maxdate': '2010-12-31',\n",
      "  'mindate': '2010-01-01',\n",
      "  'name': 'Long-term standard deviations of daily minimum temperature'},\n",
      " {'datacoverage': 1,\n",
      "  'id': 'EMNT',\n",
      "  'maxdate': '2020-08-01',\n",
      "  'mindate': '1763-01-01',\n",
      "  'name': 'Extreme minimum temperature for the period.'},\n",
      " {'datacoverage': 1,\n",
      "  'id': 'EMXT',\n",
      "  'maxdate': '2020-08-01',\n",
      "  'mindate': '1763-01-01',\n",
      "  'name': 'Extreme maximum temperature for the period.'},\n",
      " {'datacoverage': 1,\n",
      "  'id': 'HDSD',\n",
      "  'maxdate': '2020-08-01',\n",
      "  'mindate': '1763-07-01',\n",
      "  'name': 'Heating Degree Days Season to Date'},\n",
      " {'datacoverage': 1,\n",
      "  'id': 'HLY-DEWP-10PCTL',\n",
      "  'maxdate': '2010-12-31',\n",
      "  'mindate': '2010-01-01',\n",
      "  'name': 'Dew point 10th percentile'},\n",
      " {'datacoverage': 1,\n",
      "  'id': 'HLY-DEWP-90PCTL',\n",
      "  'maxdate': '2010-12-31',\n",
      "  'mindate': '2010-01-01',\n",
      "  'name': 'Dew point 90th percentile'},\n",
      " {'datacoverage': 1,\n",
      "  'id': 'HLY-DEWP-NORMAL',\n",
      "  'maxdate': '2010-12-31',\n",
      "  'mindate': '2010-01-01',\n",
      "  'name': 'Dew point mean'},\n",
      " {'datacoverage': 1,\n",
      "  'id': 'HLY-HIDX-NORMAL',\n",
      "  'maxdate': '2010-12-31',\n",
      "  'mindate': '2010-01-01',\n",
      "  'name': 'Heat index mean'},\n",
      " {'datacoverage': 1,\n",
      "  'id': 'HLY-TEMP-10PCTL',\n",
      "  'maxdate': '2010-12-31',\n",
      "  'mindate': '2010-01-01',\n",
      "  'name': 'Temperature 10th percentile'},\n",
      " {'datacoverage': 1,\n",
      "  'id': 'HLY-TEMP-90PCTL',\n",
      "  'maxdate': '2010-12-31',\n",
      "  'mindate': '2010-01-01',\n",
      "  'name': 'Temperature 90th percentile'},\n",
      " {'datacoverage': 1,\n",
      "  'id': 'HLY-TEMP-NORMAL',\n",
      "  'maxdate': '2010-12-31',\n",
      "  'mindate': '2010-01-01',\n",
      "  'name': 'Temperature mean'},\n",
      " {'datacoverage': 1,\n",
      "  'id': 'HLY-WCHL-NORMAL',\n",
      "  'maxdate': '2010-12-31',\n",
      "  'mindate': '2010-01-01',\n",
      "  'name': 'Wind chill mean'},\n",
      " {'id': 'HTMN',\n",
      "  'maxdate': '2020-09-13',\n",
      "  'mindate': '1763-01-01',\n",
      "  'name': 'Highest minimum temperature'},\n",
      " {'id': 'HTMX',\n",
      "  'maxdate': '2020-09-13',\n",
      "  'mindate': '1763-01-01',\n",
      "  'name': 'Highest maximum temperature'},\n",
      " {'id': 'LTMN',\n",
      "  'maxdate': '2020-09-13',\n",
      "  'mindate': '1763-01-01',\n",
      "  'name': 'Lowest minimum temperature'},\n",
      " {'id': 'LTMX',\n",
      "  'maxdate': '2020-09-13',\n",
      "  'mindate': '1763-01-01',\n",
      "  'name': 'Lowest maximum temperature'},\n",
      " {'datacoverage': 1,\n",
      "  'id': 'MDTN',\n",
      "  'maxdate': '2020-09-15',\n",
      "  'mindate': '1863-05-04',\n",
      "  'name': 'Multiday minimum temperature (use with DATN)'},\n",
      " {'datacoverage': 1,\n",
      "  'id': 'MDTX',\n",
      "  'maxdate': '2020-09-14',\n",
      "  'mindate': '1863-05-04',\n",
      "  'name': 'Multiday maximum temperature (use with DATX)'},\n",
      " {'datacoverage': 1,\n",
      "  'id': 'MLY-DUTR-NORMAL',\n",
      "  'maxdate': '2010-12-01',\n",
      "  'mindate': '2010-01-01',\n",
      "  'name': 'Long-term averages of monthly diurnal temperature range'},\n",
      " {'datacoverage': 1,\n",
      "  'id': 'MLY-DUTR-STDDEV',\n",
      "  'maxdate': '2010-12-01',\n",
      "  'mindate': '2010-01-01',\n",
      "  'name': 'Long-term standard deviations of monthly diurnal temperature range'},\n",
      " {'datacoverage': 1,\n",
      "  'id': 'MLY-TAVG-NORMAL',\n",
      "  'maxdate': '2010-12-01',\n",
      "  'mindate': '2010-01-01',\n",
      "  'name': 'Long-term averages of monthly average temperature'},\n",
      " {'datacoverage': 1,\n",
      "  'id': 'MLY-TAVG-STDDEV',\n",
      "  'maxdate': '2010-12-01',\n",
      "  'mindate': '2010-01-01',\n",
      "  'name': 'Long-term standard deviations of monthly average temperature'},\n",
      " {'datacoverage': 1,\n",
      "  'id': 'MLY-TMAX-AVGNDS-GRTH040',\n",
      "  'maxdate': '2010-12-01',\n",
      "  'mindate': '2010-01-01',\n",
      "  'name': 'Long-term average number of days per month where tmax is greater '\n",
      "          'than or equal to 40F'},\n",
      " {'datacoverage': 1,\n",
      "  'id': 'MLY-TMAX-AVGNDS-GRTH050',\n",
      "  'maxdate': '2010-12-01',\n",
      "  'mindate': '2010-01-01',\n",
      "  'name': 'Long-term average number of days per month where tmax is greater '\n",
      "          'than or equal to 50F'},\n",
      " {'datacoverage': 1,\n",
      "  'id': 'MLY-TMAX-AVGNDS-GRTH060',\n",
      "  'maxdate': '2010-12-01',\n",
      "  'mindate': '2010-01-01',\n",
      "  'name': 'Long-term average number of days per month where tmax is greater '\n",
      "          'than or equal to 60F'},\n",
      " {'datacoverage': 1,\n",
      "  'id': 'MLY-TMAX-AVGNDS-GRTH070',\n",
      "  'maxdate': '2010-12-01',\n",
      "  'mindate': '2010-01-01',\n",
      "  'name': 'Long-term average number of days per month where tmax is greater '\n",
      "          'than or equal to 70F'},\n",
      " {'datacoverage': 1,\n",
      "  'id': 'MLY-TMAX-AVGNDS-GRTH080',\n",
      "  'maxdate': '2010-12-01',\n",
      "  'mindate': '2010-01-01',\n",
      "  'name': 'Long-term average number of days per month where tmax is greater '\n",
      "          'than or equal to 80F'},\n",
      " {'datacoverage': 1,\n",
      "  'id': 'MLY-TMAX-AVGNDS-GRTH090',\n",
      "  'maxdate': '2010-12-01',\n",
      "  'mindate': '2010-01-01',\n",
      "  'name': 'Long-term average number of days per month where tmax is greater '\n",
      "          'than or equal to 90F'},\n",
      " {'datacoverage': 1,\n",
      "  'id': 'MLY-TMAX-AVGNDS-GRTH100',\n",
      "  'maxdate': '2010-12-01',\n",
      "  'mindate': '2010-01-01',\n",
      "  'name': 'Long-term average number of days per month where tmax is greater '\n",
      "          'than or equal to 100F'},\n",
      " {'datacoverage': 1,\n",
      "  'id': 'MLY-TMAX-AVGNDS-LSTH032',\n",
      "  'maxdate': '2010-12-01',\n",
      "  'mindate': '2010-01-01',\n",
      "  'name': 'Long-term average number of days per month where tmax is less than '\n",
      "          'or equal to 32F'},\n",
      " {'datacoverage': 1,\n",
      "  'id': 'MLY-TMAX-NORMAL',\n",
      "  'maxdate': '2010-12-01',\n",
      "  'mindate': '2010-01-01',\n",
      "  'name': 'Long-term averages of monthly maximum temperature'},\n",
      " {'datacoverage': 1,\n",
      "  'id': 'MLY-TMAX-STDDEV',\n",
      "  'maxdate': '2010-12-01',\n",
      "  'mindate': '2010-01-01',\n",
      "  'name': 'Long-term standard deviations of monthly maximum temperature'},\n",
      " {'datacoverage': 1,\n",
      "  'id': 'MLY-TMIN-AVGNDS-LSTH000',\n",
      "  'maxdate': '2010-12-01',\n",
      "  'mindate': '2010-01-01',\n",
      "  'name': 'Long-term average number of days per month where tmin is less than '\n",
      "          'or equal to 0F'},\n",
      " {'datacoverage': 1,\n",
      "  'id': 'MLY-TMIN-AVGNDS-LSTH010',\n",
      "  'maxdate': '2010-12-01',\n",
      "  'mindate': '2010-01-01',\n",
      "  'name': 'Long-term average number of days per month where tmin is less than '\n",
      "          'or equal to 10F'},\n",
      " {'datacoverage': 1,\n",
      "  'id': 'MLY-TMIN-AVGNDS-LSTH020',\n",
      "  'maxdate': '2010-12-01',\n",
      "  'mindate': '2010-01-01',\n",
      "  'name': 'Long-term average number of days per month where tmin is less than '\n",
      "          'or equal to 20F'},\n",
      " {'datacoverage': 1,\n",
      "  'id': 'MLY-TMIN-AVGNDS-LSTH032',\n",
      "  'maxdate': '2010-12-01',\n",
      "  'mindate': '2010-01-01',\n",
      "  'name': 'Long-term average number of days per month where tmin is less than '\n",
      "          'or equal to 32F'},\n",
      " {'datacoverage': 1,\n",
      "  'id': 'MLY-TMIN-AVGNDS-LSTH040',\n",
      "  'maxdate': '2010-12-01',\n",
      "  'mindate': '2010-01-01',\n",
      "  'name': 'Long-term average number of days per month where tmin is less than '\n",
      "          'or equal to 40F'},\n",
      " {'datacoverage': 1,\n",
      "  'id': 'MLY-TMIN-AVGNDS-LSTH050',\n",
      "  'maxdate': '2010-12-01',\n",
      "  'mindate': '2010-01-01',\n",
      "  'name': 'Long-term average number of days per month where tmin is less than '\n",
      "          'or equal to 50F'},\n",
      " {'datacoverage': 1,\n",
      "  'id': 'MLY-TMIN-AVGNDS-LSTH060',\n",
      "  'maxdate': '2010-12-01',\n",
      "  'mindate': '2010-01-01',\n",
      "  'name': 'Long-term average number of days per month where tmin is less than '\n",
      "          'or equal to 60F'},\n",
      " {'datacoverage': 1,\n",
      "  'id': 'MLY-TMIN-AVGNDS-LSTH070',\n",
      "  'maxdate': '2010-12-01',\n",
      "  'mindate': '2010-01-01',\n",
      "  'name': 'Long-term average number of days per month where tmin is less than '\n",
      "          'or equal to 70F'},\n",
      " {'datacoverage': 1,\n",
      "  'id': 'MLY-TMIN-NORMAL',\n",
      "  'maxdate': '2010-12-01',\n",
      "  'mindate': '2010-01-01',\n",
      "  'name': 'Long-term averages of monthly minimum temperature'},\n",
      " {'datacoverage': 1,\n",
      "  'id': 'MLY-TMIN-STDDEV',\n",
      "  'maxdate': '2010-12-01',\n",
      "  'mindate': '2010-01-01',\n",
      "  'name': 'Long-term standard deviations of monthly minimum temperature'},\n",
      " {'datacoverage': 1,\n",
      "  'id': 'MMNT',\n",
      "  'maxdate': '2016-03-01',\n",
      "  'mindate': '1763-01-01',\n",
      "  'name': 'Monthly Mean minimum temperature'},\n",
      " {'datacoverage': 1,\n",
      "  'id': 'MMXT',\n",
      "  'maxdate': '2016-03-01',\n",
      "  'mindate': '1763-01-01',\n",
      "  'name': 'Monthly Mean maximum temperature'},\n",
      " {'datacoverage': 1,\n",
      "  'id': 'MNTM',\n",
      "  'maxdate': '2016-03-01',\n",
      "  'mindate': '1763-01-01',\n",
      "  'name': 'Monthly mean temperature'},\n",
      " {'datacoverage': 1,\n",
      "  'id': 'TAVG',\n",
      "  'maxdate': '2020-09-15',\n",
      "  'mindate': '1763-01-01',\n",
      "  'name': 'Average Temperature.'},\n",
      " {'datacoverage': 1,\n",
      "  'id': 'TMAX',\n",
      "  'maxdate': '2020-09-15',\n",
      "  'mindate': '1763-01-01',\n",
      "  'name': 'Maximum temperature'},\n",
      " {'datacoverage': 1,\n",
      "  'id': 'TMIN',\n",
      "  'maxdate': '2020-09-15',\n",
      "  'mindate': '1763-01-01',\n",
      "  'name': 'Minimum temperature'},\n",
      " {'datacoverage': 1,\n",
      "  'id': 'TOBS',\n",
      "  'maxdate': '2020-09-15',\n",
      "  'mindate': '1876-11-27',\n",
      "  'name': 'Temperature at the time of observation'}]\n"
     ]
    }
   ],
   "source": [
    "import pprint\n",
    "pprint.pprint(json_response['results'])"
   ]
  },
  {
   "cell_type": "code",
   "execution_count": 41,
   "metadata": {
    "ExecuteTime": {
     "end_time": "2020-09-17T20:36:00.409169Z",
     "start_time": "2020-09-17T20:35:59.949640Z"
    }
   },
   "outputs": [],
   "source": [
    "# get NYC central park data\n",
    "response = make_request(\n",
    "    'data', \n",
    "    {\n",
    "        'datasetid' : 'GHCND',\n",
    "        'stationid' : 'GHCND:USW00094728',\n",
    "        'locationid' : 'CITY:US360019',\n",
    "        'startdate' : '2018-10-01',\n",
    "        'enddate' : '2018-10-31',\n",
    "        'datatypeid' : ['TOBS', 'TMIN', 'TMAX'],\n",
    "        'units' : 'metric',\n",
    "        'limit' : 100\n",
    "    }\n",
    ") "
   ]
  },
  {
   "cell_type": "code",
   "execution_count": 42,
   "metadata": {
    "ExecuteTime": {
     "end_time": "2020-09-17T20:36:28.766115Z",
     "start_time": "2020-09-17T20:36:28.736225Z"
    }
   },
   "outputs": [
    {
     "data": {
      "text/html": [
       "<div>\n",
       "<style scoped>\n",
       "    .dataframe tbody tr th:only-of-type {\n",
       "        vertical-align: middle;\n",
       "    }\n",
       "\n",
       "    .dataframe tbody tr th {\n",
       "        vertical-align: top;\n",
       "    }\n",
       "\n",
       "    .dataframe thead th {\n",
       "        text-align: right;\n",
       "    }\n",
       "</style>\n",
       "<table border=\"1\" class=\"dataframe\">\n",
       "  <thead>\n",
       "    <tr style=\"text-align: right;\">\n",
       "      <th></th>\n",
       "      <th>date</th>\n",
       "      <th>datatype</th>\n",
       "      <th>station</th>\n",
       "      <th>attributes</th>\n",
       "      <th>value</th>\n",
       "    </tr>\n",
       "  </thead>\n",
       "  <tbody>\n",
       "    <tr>\n",
       "      <td>0</td>\n",
       "      <td>2018-10-01T00:00:00</td>\n",
       "      <td>TMAX</td>\n",
       "      <td>GHCND:USW00094728</td>\n",
       "      <td>,,W,2400</td>\n",
       "      <td>24.4</td>\n",
       "    </tr>\n",
       "    <tr>\n",
       "      <td>1</td>\n",
       "      <td>2018-10-01T00:00:00</td>\n",
       "      <td>TMIN</td>\n",
       "      <td>GHCND:USW00094728</td>\n",
       "      <td>,,W,2400</td>\n",
       "      <td>17.2</td>\n",
       "    </tr>\n",
       "    <tr>\n",
       "      <td>2</td>\n",
       "      <td>2018-10-02T00:00:00</td>\n",
       "      <td>TMAX</td>\n",
       "      <td>GHCND:USW00094728</td>\n",
       "      <td>,,W,2400</td>\n",
       "      <td>25.0</td>\n",
       "    </tr>\n",
       "    <tr>\n",
       "      <td>3</td>\n",
       "      <td>2018-10-02T00:00:00</td>\n",
       "      <td>TMIN</td>\n",
       "      <td>GHCND:USW00094728</td>\n",
       "      <td>,,W,2400</td>\n",
       "      <td>18.3</td>\n",
       "    </tr>\n",
       "    <tr>\n",
       "      <td>4</td>\n",
       "      <td>2018-10-03T00:00:00</td>\n",
       "      <td>TMAX</td>\n",
       "      <td>GHCND:USW00094728</td>\n",
       "      <td>,,W,2400</td>\n",
       "      <td>23.3</td>\n",
       "    </tr>\n",
       "  </tbody>\n",
       "</table>\n",
       "</div>"
      ],
      "text/plain": [
       "                  date datatype            station attributes  value\n",
       "0  2018-10-01T00:00:00     TMAX  GHCND:USW00094728   ,,W,2400   24.4\n",
       "1  2018-10-01T00:00:00     TMIN  GHCND:USW00094728   ,,W,2400   17.2\n",
       "2  2018-10-02T00:00:00     TMAX  GHCND:USW00094728   ,,W,2400   25.0\n",
       "3  2018-10-02T00:00:00     TMIN  GHCND:USW00094728   ,,W,2400   18.3\n",
       "4  2018-10-03T00:00:00     TMAX  GHCND:USW00094728   ,,W,2400   23.3"
      ]
     },
     "execution_count": 42,
     "metadata": {},
     "output_type": "execute_result"
    }
   ],
   "source": [
    "df = pd.DataFrame(response.json()['results'])\n",
    "df.head()"
   ]
  },
  {
   "cell_type": "code",
   "execution_count": 49,
   "metadata": {
    "ExecuteTime": {
     "end_time": "2020-09-17T20:47:06.209024Z",
     "start_time": "2020-09-17T20:47:06.196058Z"
    }
   },
   "outputs": [
    {
     "data": {
      "text/html": [
       "<div>\n",
       "<style scoped>\n",
       "    .dataframe tbody tr th:only-of-type {\n",
       "        vertical-align: middle;\n",
       "    }\n",
       "\n",
       "    .dataframe tbody tr th {\n",
       "        vertical-align: top;\n",
       "    }\n",
       "\n",
       "    .dataframe thead th {\n",
       "        text-align: right;\n",
       "    }\n",
       "</style>\n",
       "<table border=\"1\" class=\"dataframe\">\n",
       "  <thead>\n",
       "    <tr style=\"text-align: right;\">\n",
       "      <th></th>\n",
       "      <th>DATE</th>\n",
       "      <th>DATATYPE</th>\n",
       "      <th>STATION</th>\n",
       "      <th>FLAGS</th>\n",
       "      <th>TEMP_CELCIUS</th>\n",
       "    </tr>\n",
       "  </thead>\n",
       "  <tbody>\n",
       "    <tr>\n",
       "      <td>0</td>\n",
       "      <td>2018-10-01T00:00:00</td>\n",
       "      <td>TMAX</td>\n",
       "      <td>GHCND:USW00094728</td>\n",
       "      <td>,,W,2400</td>\n",
       "      <td>24.4</td>\n",
       "    </tr>\n",
       "    <tr>\n",
       "      <td>1</td>\n",
       "      <td>2018-10-01T00:00:00</td>\n",
       "      <td>TMIN</td>\n",
       "      <td>GHCND:USW00094728</td>\n",
       "      <td>,,W,2400</td>\n",
       "      <td>17.2</td>\n",
       "    </tr>\n",
       "    <tr>\n",
       "      <td>2</td>\n",
       "      <td>2018-10-02T00:00:00</td>\n",
       "      <td>TMAX</td>\n",
       "      <td>GHCND:USW00094728</td>\n",
       "      <td>,,W,2400</td>\n",
       "      <td>25.0</td>\n",
       "    </tr>\n",
       "    <tr>\n",
       "      <td>3</td>\n",
       "      <td>2018-10-02T00:00:00</td>\n",
       "      <td>TMIN</td>\n",
       "      <td>GHCND:USW00094728</td>\n",
       "      <td>,,W,2400</td>\n",
       "      <td>18.3</td>\n",
       "    </tr>\n",
       "    <tr>\n",
       "      <td>4</td>\n",
       "      <td>2018-10-03T00:00:00</td>\n",
       "      <td>TMAX</td>\n",
       "      <td>GHCND:USW00094728</td>\n",
       "      <td>,,W,2400</td>\n",
       "      <td>23.3</td>\n",
       "    </tr>\n",
       "  </tbody>\n",
       "</table>\n",
       "</div>"
      ],
      "text/plain": [
       "                  DATE DATATYPE            STATION     FLAGS  TEMP_CELCIUS\n",
       "0  2018-10-01T00:00:00     TMAX  GHCND:USW00094728  ,,W,2400          24.4\n",
       "1  2018-10-01T00:00:00     TMIN  GHCND:USW00094728  ,,W,2400          17.2\n",
       "2  2018-10-02T00:00:00     TMAX  GHCND:USW00094728  ,,W,2400          25.0\n",
       "3  2018-10-02T00:00:00     TMIN  GHCND:USW00094728  ,,W,2400          18.3\n",
       "4  2018-10-03T00:00:00     TMAX  GHCND:USW00094728  ,,W,2400          23.3"
      ]
     },
     "execution_count": 49,
     "metadata": {},
     "output_type": "execute_result"
    }
   ],
   "source": [
    "df.rename(columns={\n",
    "    \"attributes\" : 'Flags',\n",
    "    \"value\" : 'Temp_Celcius'},\n",
    "    inplace=True)\n",
    "df.head()"
   ]
  },
  {
   "cell_type": "code",
   "execution_count": 50,
   "metadata": {
    "ExecuteTime": {
     "end_time": "2020-09-17T20:47:06.523986Z",
     "start_time": "2020-09-17T20:47:06.507995Z"
    }
   },
   "outputs": [
    {
     "data": {
      "text/html": [
       "<div>\n",
       "<style scoped>\n",
       "    .dataframe tbody tr th:only-of-type {\n",
       "        vertical-align: middle;\n",
       "    }\n",
       "\n",
       "    .dataframe tbody tr th {\n",
       "        vertical-align: top;\n",
       "    }\n",
       "\n",
       "    .dataframe thead th {\n",
       "        text-align: right;\n",
       "    }\n",
       "</style>\n",
       "<table border=\"1\" class=\"dataframe\">\n",
       "  <thead>\n",
       "    <tr style=\"text-align: right;\">\n",
       "      <th></th>\n",
       "      <th>date</th>\n",
       "      <th>datatype</th>\n",
       "      <th>station</th>\n",
       "      <th>flags</th>\n",
       "      <th>temp_celcius</th>\n",
       "    </tr>\n",
       "  </thead>\n",
       "  <tbody>\n",
       "    <tr>\n",
       "      <td>0</td>\n",
       "      <td>2018-10-01T00:00:00</td>\n",
       "      <td>TMAX</td>\n",
       "      <td>GHCND:USW00094728</td>\n",
       "      <td>,,W,2400</td>\n",
       "      <td>24.4</td>\n",
       "    </tr>\n",
       "    <tr>\n",
       "      <td>1</td>\n",
       "      <td>2018-10-01T00:00:00</td>\n",
       "      <td>TMIN</td>\n",
       "      <td>GHCND:USW00094728</td>\n",
       "      <td>,,W,2400</td>\n",
       "      <td>17.2</td>\n",
       "    </tr>\n",
       "    <tr>\n",
       "      <td>2</td>\n",
       "      <td>2018-10-02T00:00:00</td>\n",
       "      <td>TMAX</td>\n",
       "      <td>GHCND:USW00094728</td>\n",
       "      <td>,,W,2400</td>\n",
       "      <td>25.0</td>\n",
       "    </tr>\n",
       "    <tr>\n",
       "      <td>3</td>\n",
       "      <td>2018-10-02T00:00:00</td>\n",
       "      <td>TMIN</td>\n",
       "      <td>GHCND:USW00094728</td>\n",
       "      <td>,,W,2400</td>\n",
       "      <td>18.3</td>\n",
       "    </tr>\n",
       "    <tr>\n",
       "      <td>4</td>\n",
       "      <td>2018-10-03T00:00:00</td>\n",
       "      <td>TMAX</td>\n",
       "      <td>GHCND:USW00094728</td>\n",
       "      <td>,,W,2400</td>\n",
       "      <td>23.3</td>\n",
       "    </tr>\n",
       "  </tbody>\n",
       "</table>\n",
       "</div>"
      ],
      "text/plain": [
       "                  date datatype            station     flags  temp_celcius\n",
       "0  2018-10-01T00:00:00     TMAX  GHCND:USW00094728  ,,W,2400          24.4\n",
       "1  2018-10-01T00:00:00     TMIN  GHCND:USW00094728  ,,W,2400          17.2\n",
       "2  2018-10-02T00:00:00     TMAX  GHCND:USW00094728  ,,W,2400          25.0\n",
       "3  2018-10-02T00:00:00     TMIN  GHCND:USW00094728  ,,W,2400          18.3\n",
       "4  2018-10-03T00:00:00     TMAX  GHCND:USW00094728  ,,W,2400          23.3"
      ]
     },
     "execution_count": 50,
     "metadata": {},
     "output_type": "execute_result"
    }
   ],
   "source": [
    "# convert to all lowercase\n",
    "df.rename(str.lower, axis='columns', inplace=True)\n",
    "df.head()"
   ]
  },
  {
   "cell_type": "code",
   "execution_count": 51,
   "metadata": {
    "ExecuteTime": {
     "end_time": "2020-09-17T20:47:07.973543Z",
     "start_time": "2020-09-17T20:47:07.963571Z"
    }
   },
   "outputs": [
    {
     "data": {
      "text/plain": [
       "date             object\n",
       "datatype         object\n",
       "station          object\n",
       "flags            object\n",
       "temp_celcius    float64\n",
       "dtype: object"
      ]
     },
     "execution_count": 51,
     "metadata": {},
     "output_type": "execute_result"
    }
   ],
   "source": [
    "df.dtypes"
   ]
  },
  {
   "cell_type": "code",
   "execution_count": 52,
   "metadata": {
    "ExecuteTime": {
     "end_time": "2020-09-17T20:47:50.846743Z",
     "start_time": "2020-09-17T20:47:50.834824Z"
    }
   },
   "outputs": [
    {
     "data": {
      "text/plain": [
       "date            datetime64[ns]\n",
       "datatype                object\n",
       "station                 object\n",
       "flags                   object\n",
       "temp_celcius           float64\n",
       "dtype: object"
      ]
     },
     "execution_count": 52,
     "metadata": {},
     "output_type": "execute_result"
    }
   ],
   "source": [
    "df[\"date\"] = pd.to_datetime(df['date'])\n",
    "df.dtypes"
   ]
  },
  {
   "cell_type": "code",
   "execution_count": 53,
   "metadata": {
    "ExecuteTime": {
     "end_time": "2020-09-17T20:48:15.798024Z",
     "start_time": "2020-09-17T20:48:15.771103Z"
    }
   },
   "outputs": [
    {
     "data": {
      "text/plain": [
       "count                      62\n",
       "unique                     31\n",
       "top       2018-10-01 00:00:00\n",
       "freq                        2\n",
       "first     2018-10-01 00:00:00\n",
       "last      2018-10-31 00:00:00\n",
       "Name: date, dtype: object"
      ]
     },
     "execution_count": 53,
     "metadata": {},
     "output_type": "execute_result"
    }
   ],
   "source": [
    "df['date'].describe()"
   ]
  },
  {
   "cell_type": "code",
   "execution_count": 58,
   "metadata": {
    "ExecuteTime": {
     "end_time": "2020-09-17T21:08:24.426882Z",
     "start_time": "2020-09-17T21:08:24.414918Z"
    }
   },
   "outputs": [
    {
     "data": {
      "text/plain": [
       "date            datetime64[ns]\n",
       "datatype              category\n",
       "station               category\n",
       "flags                   object\n",
       "temp_celcius           float64\n",
       "temp_f                 float64\n",
       "dtype: object"
      ]
     },
     "execution_count": 58,
     "metadata": {},
     "output_type": "execute_result"
    }
   ],
   "source": [
    "# use assign to create datetime and temp_f column\n",
    "df = df.assign(\n",
    "    date = pd.to_datetime(df['date']),\n",
    "    temp_f = (df['temp_celcius'] * 9/5) +32, \n",
    "    station = df['station'].astype('category'), \n",
    "    datatype = df['datatype'].astype('category')\n",
    ")\n",
    "df.dtypes"
   ]
  },
  {
   "cell_type": "code",
   "execution_count": null,
   "metadata": {},
   "outputs": [],
   "source": []
  }
 ],
 "metadata": {
  "kernelspec": {
   "display_name": "Python 3",
   "language": "python",
   "name": "python3"
  },
  "language_info": {
   "codemirror_mode": {
    "name": "ipython",
    "version": 3
   },
   "file_extension": ".py",
   "mimetype": "text/x-python",
   "name": "python",
   "nbconvert_exporter": "python",
   "pygments_lexer": "ipython3",
   "version": "3.7.4"
  },
  "toc": {
   "base_numbering": 1,
   "nav_menu": {},
   "number_sections": true,
   "sideBar": true,
   "skip_h1_title": false,
   "title_cell": "Table of Contents",
   "title_sidebar": "Contents",
   "toc_cell": false,
   "toc_position": {},
   "toc_section_display": true,
   "toc_window_display": false
  },
  "varInspector": {
   "cols": {
    "lenName": 16,
    "lenType": 16,
    "lenVar": 40
   },
   "kernels_config": {
    "python": {
     "delete_cmd_postfix": "",
     "delete_cmd_prefix": "del ",
     "library": "var_list.py",
     "varRefreshCmd": "print(var_dic_list())"
    },
    "r": {
     "delete_cmd_postfix": ") ",
     "delete_cmd_prefix": "rm(",
     "library": "var_list.r",
     "varRefreshCmd": "cat(var_dic_list()) "
    }
   },
   "types_to_exclude": [
    "module",
    "function",
    "builtin_function_or_method",
    "instance",
    "_Feature"
   ],
   "window_display": false
  }
 },
 "nbformat": 4,
 "nbformat_minor": 2
}
